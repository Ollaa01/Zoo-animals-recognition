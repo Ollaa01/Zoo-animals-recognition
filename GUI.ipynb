{
 "cells": [
  {
   "cell_type": "code",
   "execution_count": 1,
   "id": "15d40c87-3803-4c10-b662-46ee0fde967e",
   "metadata": {},
   "outputs": [],
   "source": [
    "import tensorflow as tf\n"
   ]
  },
  {
   "cell_type": "code",
   "execution_count": null,
   "id": "b87d6e1a-061f-4139-b8a7-7970e0014f02",
   "metadata": {},
   "outputs": [
    {
     "name": "stdout",
     "output_type": "stream",
     "text": [
      "Found 977 files belonging to 4 classes.\n",
      "['Elephant', 'Panda', 'Tiger', 'Zebra']\n",
      "1/1 [==============================] - 0s 333ms/step\n",
      "This image most likely belongs to Zebra with a 99.38 percent confidence.\n"
     ]
    }
   ],
   "source": [
    "import tkinter as tk\n",
    "from tkinter import filedialog\n",
    "from PIL import ImageTk, Image\n",
    "import tensorflow as tf\n",
    "import numpy as np\n",
    "\n",
    "# Parameters\n",
    "batch_size = 32\n",
    "img_height = 180\n",
    "img_width = 180\n",
    "\n",
    "# Load number of classes\n",
    "test_ds = tf.keras.utils.image_dataset_from_directory(\n",
    "    'data/Test data',\n",
    "    image_size=(180, 180),\n",
    "    batch_size=32\n",
    ")\n",
    "\n",
    "class_names = test_ds.class_names\n",
    "print(class_names)\n",
    "num_classes = len(class_names)\n",
    "\n",
    "# Define the model\n",
    "model = tf.keras.models.Sequential([\n",
    "    tf.keras.layers.Rescaling(1./255, input_shape=(img_height, img_width, 3)),\n",
    "    tf.keras.layers.Conv2D(16, 3, padding='same', activation='relu'),\n",
    "    tf.keras.layers.MaxPooling2D(),\n",
    "    tf.keras.layers.Conv2D(32, 3, padding='same', activation='relu'),\n",
    "    tf.keras.layers.MaxPooling2D(),\n",
    "    tf.keras.layers.Conv2D(64, 3, padding='same', activation='relu'),\n",
    "    tf.keras.layers.MaxPooling2D(),\n",
    "    tf.keras.layers.Flatten(),\n",
    "    tf.keras.layers.Dense(128, activation='relu'),\n",
    "    tf.keras.layers.Dense(num_classes)\n",
    "])\n",
    "\n",
    "# Load the model weights\n",
    "model.load_weights('model4a.h5')\n",
    "\n",
    "# Initialize GUI\n",
    "root = tk.Tk()\n",
    "\n",
    "# Function to load an image and make predictions\n",
    "def predict_image():\n",
    "    file_path = filedialog.askopenfilename()\n",
    "    img = tf.keras.utils.load_img(file_path, target_size=(img_height, img_width))\n",
    "    img_array = tf.keras.utils.img_to_array(img)\n",
    "    img_array = tf.expand_dims(img_array, 0)  # Create a batch\n",
    "\n",
    "    predictions = model.predict(img_array)\n",
    "    score = tf.nn.softmax(predictions[0])\n",
    "    print(\"This image most likely belongs to {} with a {:.2f} percent confidence.\".format(class_names[np.argmax(score)], 100 * np.max(score)))\n",
    "\n",
    "    image = Image.open(file_path).resize((img_width, img_height))\n",
    "    image = image.convert(\"RGB\")\n",
    "    image = np.array(image) / 255.0\n",
    "    image = np.expand_dims(image, axis=0)\n",
    "\n",
    "    # Create a new window to display the results\n",
    "    result_window = tk.Toplevel(root)\n",
    "    result_window.title(\"Prediction Result\")\n",
    "\n",
    "    # Display the predicted class label\n",
    "    class_label_text = \"Predicted Class: {}\".format(class_names[np.argmax(score)])\n",
    "    class_label_label = tk.Label(result_window, text=class_label_text)\n",
    "    class_label_label.pack()\n",
    "\n",
    "    # Display the prediction confidence\n",
    "    confidence_text = \"Confidence: {:.2f}%\".format(100 * np.max(score))\n",
    "    confidence_label = tk.Label(result_window, text=confidence_text)\n",
    "    confidence_label.pack()\n",
    "\n",
    "    # Display the loaded image\n",
    "    image_display = ImageTk.PhotoImage(Image.open(file_path).resize((300, 300)))\n",
    "    image_label = tk.Label(result_window, image=image_display)\n",
    "    image_label.image = image_display\n",
    "    image_label.pack()\n",
    "\n",
    "# Button to upload an image\n",
    "upload_button = tk.Button(root, text=\"Upload Image\", command=predict_image)\n",
    "upload_button.pack()\n",
    "\n",
    "# Run the GUI\n",
    "root.mainloop()\n"
   ]
  },
  {
   "cell_type": "code",
   "execution_count": null,
   "id": "bb8c790b-a191-4002-aa6d-79917d66cb42",
   "metadata": {},
   "outputs": [],
   "source": []
  },
  {
   "cell_type": "code",
   "execution_count": 22,
   "id": "52301147-3e8e-4d42-a629-1306013ccff7",
   "metadata": {},
   "outputs": [
    {
     "name": "stdout",
     "output_type": "stream",
     "text": [
      "23/23 [==============================] - 4s 162ms/step - loss: 0.2370 - accuracy: 0.9208\n",
      "Test accuracy: 0.9207921028137207\n"
     ]
    }
   ],
   "source": [
    "model.compile(optimizer='adam',\n",
    "              loss=tf.keras.losses.SparseCategoricalCrossentropy(from_logits=True),\n",
    "              metrics=['accuracy'])\n",
    "\n",
    "loss, accuracy = model.evaluate(test_ds)\n",
    "print('Test accuracy:', accuracy)"
   ]
  },
  {
   "cell_type": "code",
   "execution_count": 4,
   "id": "99d1f5d0-b649-4588-810b-152970be424e",
   "metadata": {},
   "outputs": [
    {
     "name": "stdout",
     "output_type": "stream",
     "text": [
      "Model: \"sequential\"\n",
      "_________________________________________________________________\n",
      " Layer (type)                Output Shape              Param #   \n",
      "=================================================================\n",
      " rescaling (Rescaling)       (None, 180, 180, 3)       0         \n",
      "                                                                 \n",
      " conv2d (Conv2D)             (None, 180, 180, 16)      448       \n",
      "                                                                 \n",
      " max_pooling2d (MaxPooling2D  (None, 90, 90, 16)       0         \n",
      " )                                                               \n",
      "                                                                 \n",
      " conv2d_1 (Conv2D)           (None, 90, 90, 32)        4640      \n",
      "                                                                 \n",
      " max_pooling2d_1 (MaxPooling  (None, 45, 45, 32)       0         \n",
      " 2D)                                                             \n",
      "                                                                 \n",
      " conv2d_2 (Conv2D)           (None, 45, 45, 64)        18496     \n",
      "                                                                 \n",
      " max_pooling2d_2 (MaxPooling  (None, 22, 22, 64)       0         \n",
      " 2D)                                                             \n",
      "                                                                 \n",
      " flatten (Flatten)           (None, 30976)             0         \n",
      "                                                                 \n",
      " dense (Dense)               (None, 128)               3965056   \n",
      "                                                                 \n",
      " dense_1 (Dense)             (None, 3)                 387       \n",
      "                                                                 \n",
      "=================================================================\n",
      "Total params: 3,989,027\n",
      "Trainable params: 3,989,027\n",
      "Non-trainable params: 0\n",
      "_________________________________________________________________\n"
     ]
    }
   ],
   "source": [
    "model.summary()"
   ]
  },
  {
   "cell_type": "code",
   "execution_count": null,
   "id": "6afe9579-d644-407a-971c-b80f35a45e25",
   "metadata": {},
   "outputs": [],
   "source": []
  }
 ],
 "metadata": {
  "kernelspec": {
   "display_name": "Python 3 (ipykernel)",
   "language": "python",
   "name": "python3"
  },
  "language_info": {
   "codemirror_mode": {
    "name": "ipython",
    "version": 3
   },
   "file_extension": ".py",
   "mimetype": "text/x-python",
   "name": "python",
   "nbconvert_exporter": "python",
   "pygments_lexer": "ipython3",
   "version": "3.10.9"
  }
 },
 "nbformat": 4,
 "nbformat_minor": 5
}
