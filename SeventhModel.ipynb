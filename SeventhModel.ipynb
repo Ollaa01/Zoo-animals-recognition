{
 "cells": [
  {
   "cell_type": "code",
   "execution_count": 1,
   "id": "ffdd1682-0be6-4ac1-8d09-629274014714",
   "metadata": {},
   "outputs": [
    {
     "name": "stdout",
     "output_type": "stream",
     "text": [
      "Found 6238 files belonging to 4 classes.\n",
      "Found 400 files belonging to 4 classes.\n",
      "Found 977 files belonging to 4 classes.\n",
      "['Elephant', 'Panda', 'Tiger', 'Zebra']\n"
     ]
    }
   ],
   "source": [
    "import matplotlib.pyplot as plt\n",
    "import numpy as np\n",
    "import os\n",
    "import PIL\n",
    "import tensorflow as tf\n",
    "\n",
    "from tensorflow import keras\n",
    "from tensorflow.keras import layers\n",
    "from tensorflow.keras.models import Sequential\n",
    "#Data paths\n",
    "data_dir_train = 'data/Training data'\n",
    "data_dir_val = 'data/Validation data'\n",
    "data_dir_test = 'data/Test data'\n",
    "#Module parametres\n",
    "batch_size = 32\n",
    "img_height = 180\n",
    "img_width = 180\n",
    "train_ds = tf.keras.utils.image_dataset_from_directory(\n",
    "  data_dir_train,\n",
    "  image_size=(img_height, img_width),\n",
    "  batch_size=batch_size)\n",
    "val_ds = tf.keras.utils.image_dataset_from_directory(\n",
    "  data_dir_val,\n",
    "  image_size=(img_height, img_width),\n",
    "  batch_size=batch_size)\n",
    "test_ds = tf.keras.utils.image_dataset_from_directory(\n",
    "  data_dir_test,\n",
    "  image_size=(img_height, img_width),\n",
    "  batch_size=batch_size)\n",
    "class_names = train_ds.class_names\n",
    "print(class_names)"
   ]
  },
  {
   "cell_type": "code",
   "execution_count": 2,
   "id": "95b82dce-bc6d-4902-a59e-88e866f1ec94",
   "metadata": {},
   "outputs": [
    {
     "name": "stdout",
     "output_type": "stream",
     "text": [
      "0.0 1.0\n"
     ]
    }
   ],
   "source": [
    "\n",
    "AUTOTUNE = tf.data.AUTOTUNE\n",
    "\n",
    "train_ds = train_ds.cache().shuffle(1000).prefetch(buffer_size=AUTOTUNE)\n",
    "val_ds = val_ds.cache().prefetch(buffer_size=AUTOTUNE)\n",
    "#Standarize data\n",
    "normalization_layer = layers.Rescaling(1./255)\n",
    "normalized_ds = train_ds.map(lambda x, y: (normalization_layer(x), y))\n",
    "image_batch, labels_batch = next(iter(normalized_ds))\n",
    "first_image = image_batch[0]\n",
    "print(np.min(first_image), np.max(first_image))"
   ]
  },
  {
   "cell_type": "code",
   "execution_count": 3,
   "id": "3bea492c-547c-4c5f-836f-cc62578a586d",
   "metadata": {},
   "outputs": [],
   "source": [
    "data_augmentation = keras.Sequential(\n",
    "  [\n",
    "    layers.RandomFlip(\"horizontal\",\n",
    "                      input_shape=(img_height,\n",
    "                                  img_width,\n",
    "                                  3)),\n",
    "    layers.RandomRotation(0.1),\n",
    "    layers.RandomZoom(0.1),\n",
    "  ]\n",
    ")"
   ]
  },
  {
   "cell_type": "code",
   "execution_count": 4,
   "id": "3d0dcf71-2af4-4a3f-ae79-1ea0871a5493",
   "metadata": {},
   "outputs": [],
   "source": [
    "num_classes = len(class_names)\n",
    "\n",
    "model = Sequential([\n",
    " # layers.BatchNormalization(input_shape=(img_height, img_width, 3)),\n",
    "  data_augmentation,\n",
    "  layers.Rescaling(1./255),\n",
    "  layers.Conv2D(16, 3, padding='same', activation='relu'),\n",
    "  layers.MaxPooling2D(),\n",
    "  layers.Conv2D(32, 3, padding='same', activation='relu'),\n",
    "  layers.MaxPooling2D(),\n",
    "  layers.Conv2D(64, 3, padding='same', activation='relu'),\n",
    "  layers.MaxPooling2D(),\n",
    "  layers.Dropout(0.2),\n",
    "  layers.Flatten(),\n",
    "  layers.Dense(128, activation='relu'),\n",
    "  layers.Dense(num_classes)\n",
    "])\n"
   ]
  },
  {
   "cell_type": "code",
   "execution_count": 5,
   "id": "eee6a505-b2b0-476d-9325-8905fa127a3a",
   "metadata": {},
   "outputs": [
    {
     "name": "stdout",
     "output_type": "stream",
     "text": [
      "Model: \"sequential_1\"\n",
      "_________________________________________________________________\n",
      " Layer (type)                Output Shape              Param #   \n",
      "=================================================================\n",
      " sequential (Sequential)     (None, 180, 180, 3)       0         \n",
      "                                                                 \n",
      " rescaling_1 (Rescaling)     (None, 180, 180, 3)       0         \n",
      "                                                                 \n",
      " conv2d (Conv2D)             (None, 180, 180, 16)      448       \n",
      "                                                                 \n",
      " max_pooling2d (MaxPooling2D  (None, 90, 90, 16)       0         \n",
      " )                                                               \n",
      "                                                                 \n",
      " conv2d_1 (Conv2D)           (None, 90, 90, 32)        4640      \n",
      "                                                                 \n",
      " max_pooling2d_1 (MaxPooling  (None, 45, 45, 32)       0         \n",
      " 2D)                                                             \n",
      "                                                                 \n",
      " conv2d_2 (Conv2D)           (None, 45, 45, 64)        18496     \n",
      "                                                                 \n",
      " max_pooling2d_2 (MaxPooling  (None, 22, 22, 64)       0         \n",
      " 2D)                                                             \n",
      "                                                                 \n",
      " dropout (Dropout)           (None, 22, 22, 64)        0         \n",
      "                                                                 \n",
      " flatten (Flatten)           (None, 30976)             0         \n",
      "                                                                 \n",
      " dense (Dense)               (None, 128)               3965056   \n",
      "                                                                 \n",
      " dense_1 (Dense)             (None, 4)                 516       \n",
      "                                                                 \n",
      "=================================================================\n",
      "Total params: 3,989,156\n",
      "Trainable params: 3,989,156\n",
      "Non-trainable params: 0\n",
      "_________________________________________________________________\n"
     ]
    }
   ],
   "source": [
    "model.compile(optimizer='adamax',\n",
    "              loss=tf.keras.losses.SparseCategoricalCrossentropy(from_logits=True),\n",
    "              metrics=['accuracy'])\n",
    "model.summary()"
   ]
  },
  {
   "cell_type": "code",
   "execution_count": 6,
   "id": "7bd5a3ac-167d-4d3e-845f-8af9af57a12d",
   "metadata": {},
   "outputs": [
    {
     "name": "stdout",
     "output_type": "stream",
     "text": [
      "Epoch 1/15\n",
      "195/195 [==============================] - 72s 364ms/step - loss: 0.9458 - accuracy: 0.5938 - val_loss: 1.0663 - val_accuracy: 0.5075\n",
      "Epoch 2/15\n",
      "195/195 [==============================] - 70s 360ms/step - loss: 0.6246 - accuracy: 0.7589 - val_loss: 0.8932 - val_accuracy: 0.6375\n",
      "Epoch 3/15\n",
      "195/195 [==============================] - 71s 362ms/step - loss: 0.5432 - accuracy: 0.7934 - val_loss: 1.0822 - val_accuracy: 0.5950\n",
      "Epoch 4/15\n",
      "195/195 [==============================] - 71s 363ms/step - loss: 0.5059 - accuracy: 0.8091 - val_loss: 1.0094 - val_accuracy: 0.6400\n",
      "Epoch 5/15\n",
      "195/195 [==============================] - 71s 362ms/step - loss: 0.4598 - accuracy: 0.8262 - val_loss: 0.7799 - val_accuracy: 0.7400\n",
      "Epoch 6/15\n",
      "195/195 [==============================] - 69s 353ms/step - loss: 0.4236 - accuracy: 0.8424 - val_loss: 0.8855 - val_accuracy: 0.7000\n",
      "Epoch 7/15\n",
      "195/195 [==============================] - 69s 354ms/step - loss: 0.4002 - accuracy: 0.8544 - val_loss: 0.9260 - val_accuracy: 0.6950\n",
      "Epoch 8/15\n",
      "195/195 [==============================] - 72s 372ms/step - loss: 0.3828 - accuracy: 0.8560 - val_loss: 0.9737 - val_accuracy: 0.6925\n",
      "Epoch 9/15\n",
      "195/195 [==============================] - 71s 363ms/step - loss: 0.3634 - accuracy: 0.8645 - val_loss: 0.6298 - val_accuracy: 0.7800\n",
      "Epoch 10/15\n",
      "195/195 [==============================] - 69s 355ms/step - loss: 0.3457 - accuracy: 0.8756 - val_loss: 0.8569 - val_accuracy: 0.7275\n",
      "Epoch 11/15\n",
      "195/195 [==============================] - 69s 354ms/step - loss: 0.3458 - accuracy: 0.8702 - val_loss: 0.9132 - val_accuracy: 0.7350\n",
      "Epoch 12/15\n",
      "195/195 [==============================] - 70s 359ms/step - loss: 0.3219 - accuracy: 0.8815 - val_loss: 0.8850 - val_accuracy: 0.7250\n",
      "Epoch 13/15\n",
      "195/195 [==============================] - 70s 358ms/step - loss: 0.3254 - accuracy: 0.8798 - val_loss: 0.7163 - val_accuracy: 0.7800\n",
      "Epoch 14/15\n",
      "195/195 [==============================] - 69s 354ms/step - loss: 0.3078 - accuracy: 0.8868 - val_loss: 0.5885 - val_accuracy: 0.8125\n",
      "Epoch 15/15\n",
      "195/195 [==============================] - 69s 351ms/step - loss: 0.3109 - accuracy: 0.8860 - val_loss: 0.8824 - val_accuracy: 0.7350\n"
     ]
    }
   ],
   "source": [
    "epochs = 15\n",
    "history = model.fit(\n",
    "  train_ds,\n",
    "  validation_data=val_ds,\n",
    "  epochs=epochs\n",
    ")"
   ]
  },
  {
   "cell_type": "code",
   "execution_count": 7,
   "id": "c3397710-2b3b-4547-9666-4be6c74a8b53",
   "metadata": {},
   "outputs": [
    {
     "name": "stdout",
     "output_type": "stream",
     "text": [
      "31/31 [==============================] - 3s 76ms/step - loss: 0.9344 - accuracy: 0.7523\n",
      "Test accuracy: 0.7523029446601868\n"
     ]
    }
   ],
   "source": [
    "#Testing model on test data\n",
    "loss, accuracy = model.evaluate(test_ds)\n",
    "print('Test accuracy:', accuracy)\n"
   ]
  },
  {
   "cell_type": "code",
   "execution_count": 8,
   "id": "deb999c0-5efd-460f-be71-1de8d3cf94e2",
   "metadata": {},
   "outputs": [],
   "source": [
    "model.save('model4aM.h5')"
   ]
  },
  {
   "cell_type": "code",
   "execution_count": null,
   "id": "2842ab34-785a-4455-918b-dcedc1d75b65",
   "metadata": {},
   "outputs": [],
   "source": []
  }
 ],
 "metadata": {
  "kernelspec": {
   "display_name": "Python 3 (ipykernel)",
   "language": "python",
   "name": "python3"
  },
  "language_info": {
   "codemirror_mode": {
    "name": "ipython",
    "version": 3
   },
   "file_extension": ".py",
   "mimetype": "text/x-python",
   "name": "python",
   "nbconvert_exporter": "python",
   "pygments_lexer": "ipython3",
   "version": "3.10.9"
  }
 },
 "nbformat": 4,
 "nbformat_minor": 5
}
