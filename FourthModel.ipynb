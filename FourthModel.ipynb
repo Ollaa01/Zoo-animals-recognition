{
 "cells": [
  {
   "cell_type": "code",
   "execution_count": 40,
   "id": "956e4e84-07c9-4a4f-96e8-d4fb81623d78",
   "metadata": {},
   "outputs": [],
   "source": [
    "import matplotlib.pyplot as plt\n",
    "import numpy as np\n",
    "import os\n",
    "import PIL\n",
    "import tensorflow as tf\n",
    "\n",
    "from tensorflow import keras\n",
    "from tensorflow.keras import layers\n",
    "from tensorflow.keras.models import Sequential"
   ]
  },
  {
   "cell_type": "code",
   "execution_count": 41,
   "id": "65c08262-033c-4c6a-add1-14ad1bbcc32a",
   "metadata": {},
   "outputs": [],
   "source": [
    "#Data paths\n",
    "data_dir_train = 'data/Training data'\n",
    "data_dir_val = 'data/Validation data'\n",
    "data_dir_test = 'data/Test data'"
   ]
  },
  {
   "cell_type": "code",
   "execution_count": 42,
   "id": "abc6bdd8-913c-4da2-8cac-22d353f33834",
   "metadata": {},
   "outputs": [],
   "source": [
    "#Module parametres\n",
    "batch_size = 32\n",
    "img_height = 180\n",
    "img_width = 180"
   ]
  },
  {
   "cell_type": "code",
   "execution_count": 43,
   "id": "7ca45c16-764d-4e64-82aa-222680b5e179",
   "metadata": {},
   "outputs": [
    {
     "name": "stdout",
     "output_type": "stream",
     "text": [
      "Found 6238 files belonging to 4 classes.\n",
      "Found 400 files belonging to 4 classes.\n",
      "Found 977 files belonging to 4 classes.\n"
     ]
    }
   ],
   "source": [
    "train_ds = tf.keras.utils.image_dataset_from_directory(\n",
    "  data_dir_train,\n",
    "  image_size=(img_height, img_width),\n",
    "  batch_size=batch_size)\n",
    "val_ds = tf.keras.utils.image_dataset_from_directory(\n",
    "  data_dir_val,\n",
    "  image_size=(img_height, img_width),\n",
    "  batch_size=batch_size)\n",
    "test_ds = tf.keras.utils.image_dataset_from_directory(\n",
    "  data_dir_test,\n",
    "  image_size=(img_height, img_width),\n",
    "  batch_size=batch_size)"
   ]
  },
  {
   "cell_type": "code",
   "execution_count": 44,
   "id": "04859466-5d6b-4103-bb9e-e0c19040d436",
   "metadata": {},
   "outputs": [
    {
     "name": "stdout",
     "output_type": "stream",
     "text": [
      "['Elephant', 'Panda', 'Tiger', 'Zebra']\n"
     ]
    }
   ],
   "source": [
    "class_names = train_ds.class_names\n",
    "print(class_names)"
   ]
  },
  {
   "cell_type": "code",
   "execution_count": 45,
   "id": "c321fb55-cb0e-4e32-bb3b-ae6e5dff7e00",
   "metadata": {},
   "outputs": [],
   "source": [
    "\n",
    "AUTOTUNE = tf.data.AUTOTUNE\n",
    "\n",
    "train_ds = train_ds.cache().shuffle(1000).prefetch(buffer_size=AUTOTUNE)\n",
    "val_ds = val_ds.cache().prefetch(buffer_size=AUTOTUNE)"
   ]
  },
  {
   "cell_type": "code",
   "execution_count": 46,
   "id": "d985c31f-785d-4de2-b3a2-f192b0b64445",
   "metadata": {},
   "outputs": [
    {
     "name": "stdout",
     "output_type": "stream",
     "text": [
      "0.0 1.0\n"
     ]
    }
   ],
   "source": [
    "#Standarize data\n",
    "normalization_layer = layers.Rescaling(1./255)\n",
    "normalized_ds = train_ds.map(lambda x, y: (normalization_layer(x), y))\n",
    "image_batch, labels_batch = next(iter(normalized_ds))\n",
    "first_image = image_batch[0]\n",
    "print(np.min(first_image), np.max(first_image))"
   ]
  },
  {
   "cell_type": "code",
   "execution_count": 47,
   "id": "93e50167-e2f1-4390-b876-cf6016b54b42",
   "metadata": {},
   "outputs": [],
   "source": [
    "data_augmentation = keras.Sequential(\n",
    "  [\n",
    "    layers.RandomFlip(\"horizontal\",\n",
    "                      input_shape=(img_height,\n",
    "                                  img_width,\n",
    "                                  3)),\n",
    "    layers.RandomRotation(0.1),\n",
    "    layers.RandomZoom(0.1),\n",
    "  ]\n",
    ")"
   ]
  },
  {
   "cell_type": "code",
   "execution_count": 54,
   "id": "b418fa76-c1db-4069-ba5e-9f60719dc85e",
   "metadata": {},
   "outputs": [],
   "source": [
    "num_classes = len(class_names)\n",
    "\n",
    "model = Sequential([\n",
    " # layers.BatchNormalization(input_shape=(img_height, img_width, 3)),\n",
    "  data_augmentation,\n",
    "  layers.Rescaling(1./255),\n",
    "  layers.Conv2D(16, 3, padding='same', activation='relu'),\n",
    "  layers.MaxPooling2D(),\n",
    "  layers.Conv2D(32, 3, padding='same', activation='relu'),\n",
    "  layers.MaxPooling2D(),\n",
    "  layers.Conv2D(64, 3, padding='same', activation='relu'),\n",
    "  layers.MaxPooling2D(),\n",
    "  layers.Dropout(0.2),\n",
    "  layers.Flatten(),\n",
    "  layers.Dense(128, activation='relu'),\n",
    "  layers.Dense(num_classes)\n",
    "])\n"
   ]
  },
  {
   "cell_type": "code",
   "execution_count": 55,
   "id": "74039a28-a2c3-4363-b153-39d8bc6d6acb",
   "metadata": {},
   "outputs": [
    {
     "name": "stdout",
     "output_type": "stream",
     "text": [
      "Model: \"sequential_8\"\n",
      "_________________________________________________________________\n",
      " Layer (type)                Output Shape              Param #   \n",
      "=================================================================\n",
      " sequential_5 (Sequential)   (None, 180, 180, 3)       0         \n",
      "                                                                 \n",
      " rescaling_13 (Rescaling)    (None, 180, 180, 3)       0         \n",
      "                                                                 \n",
      " conv2d_15 (Conv2D)          (None, 180, 180, 16)      448       \n",
      "                                                                 \n",
      " max_pooling2d_15 (MaxPoolin  (None, 90, 90, 16)       0         \n",
      " g2D)                                                            \n",
      "                                                                 \n",
      " conv2d_16 (Conv2D)          (None, 90, 90, 32)        4640      \n",
      "                                                                 \n",
      " max_pooling2d_16 (MaxPoolin  (None, 45, 45, 32)       0         \n",
      " g2D)                                                            \n",
      "                                                                 \n",
      " conv2d_17 (Conv2D)          (None, 45, 45, 64)        18496     \n",
      "                                                                 \n",
      " max_pooling2d_17 (MaxPoolin  (None, 22, 22, 64)       0         \n",
      " g2D)                                                            \n",
      "                                                                 \n",
      " dropout_5 (Dropout)         (None, 22, 22, 64)        0         \n",
      "                                                                 \n",
      " flatten_5 (Flatten)         (None, 30976)             0         \n",
      "                                                                 \n",
      " dense_9 (Dense)             (None, 128)               3965056   \n",
      "                                                                 \n",
      " dense_10 (Dense)            (None, 4)                 516       \n",
      "                                                                 \n",
      "=================================================================\n",
      "Total params: 3,989,156\n",
      "Trainable params: 3,989,156\n",
      "Non-trainable params: 0\n",
      "_________________________________________________________________\n"
     ]
    }
   ],
   "source": [
    "model.compile(optimizer='adam',\n",
    "              loss=tf.keras.losses.SparseCategoricalCrossentropy(from_logits=True),\n",
    "              metrics=['accuracy'])\n",
    "model.summary()"
   ]
  },
  {
   "cell_type": "code",
   "execution_count": 38,
   "id": "08c9df7d-e0b5-47ec-8ae7-87b343c4ef65",
   "metadata": {},
   "outputs": [
    {
     "name": "stdout",
     "output_type": "stream",
     "text": [
      "Model: \"sequential_4\"\n",
      "_________________________________________________________________\n",
      " Layer (type)                Output Shape              Param #   \n",
      "=================================================================\n",
      " batch_normalization_2 (Batc  (None, 180, 180, 3)      12        \n",
      " hNormalization)                                                 \n",
      "                                                                 \n",
      " sequential_3 (Sequential)   (None, 180, 180, 3)       0         \n",
      "                                                                 \n",
      " rescaling_9 (Rescaling)     (None, 180, 180, 3)       0         \n",
      "                                                                 \n",
      " conv2d_6 (Conv2D)           (None, 180, 180, 16)      448       \n",
      "                                                                 \n",
      " max_pooling2d_6 (MaxPooling  (None, 90, 90, 16)       0         \n",
      " 2D)                                                             \n",
      "                                                                 \n",
      " conv2d_7 (Conv2D)           (None, 90, 90, 32)        4640      \n",
      "                                                                 \n",
      " max_pooling2d_7 (MaxPooling  (None, 45, 45, 32)       0         \n",
      " 2D)                                                             \n",
      "                                                                 \n",
      " conv2d_8 (Conv2D)           (None, 45, 45, 64)        18496     \n",
      "                                                                 \n",
      " max_pooling2d_8 (MaxPooling  (None, 22, 22, 64)       0         \n",
      " 2D)                                                             \n",
      "                                                                 \n",
      " dropout_2 (Dropout)         (None, 22, 22, 64)        0         \n",
      "                                                                 \n",
      " flatten_2 (Flatten)         (None, 30976)             0         \n",
      "                                                                 \n",
      " dense_3 (Dense)             (None, 128)               3965056   \n",
      "                                                                 \n",
      " dense_4 (Dense)             (None, 4)                 516       \n",
      "                                                                 \n",
      "=================================================================\n",
      "Total params: 3,989,168\n",
      "Trainable params: 3,989,162\n",
      "Non-trainable params: 6\n",
      "_________________________________________________________________\n"
     ]
    }
   ],
   "source": []
  },
  {
   "cell_type": "code",
   "execution_count": 56,
   "id": "b23fa0c6-8d71-4bf0-a693-dd0614e6b5ea",
   "metadata": {},
   "outputs": [
    {
     "name": "stdout",
     "output_type": "stream",
     "text": [
      "Epoch 1/15\n",
      "195/195 [==============================] - 128s 642ms/step - loss: 0.9435 - accuracy: 0.6012 - val_loss: 1.5156 - val_accuracy: 0.4375\n",
      "Epoch 2/15\n",
      "195/195 [==============================] - 128s 656ms/step - loss: 0.5763 - accuracy: 0.7740 - val_loss: 0.8973 - val_accuracy: 0.6625\n",
      "Epoch 3/15\n",
      "195/195 [==============================] - 129s 661ms/step - loss: 0.4841 - accuracy: 0.8148 - val_loss: 1.0541 - val_accuracy: 0.6575\n",
      "Epoch 4/15\n",
      "195/195 [==============================] - 130s 666ms/step - loss: 0.4227 - accuracy: 0.8355 - val_loss: 0.9194 - val_accuracy: 0.7200\n",
      "Epoch 5/15\n",
      "195/195 [==============================] - 78s 397ms/step - loss: 0.3962 - accuracy: 0.8520 - val_loss: 0.9393 - val_accuracy: 0.6950\n",
      "Epoch 6/15\n",
      "195/195 [==============================] - 70s 359ms/step - loss: 0.3560 - accuracy: 0.8690 - val_loss: 0.7142 - val_accuracy: 0.7850\n",
      "Epoch 7/15\n",
      "195/195 [==============================] - 69s 356ms/step - loss: 0.3561 - accuracy: 0.8689 - val_loss: 0.7903 - val_accuracy: 0.7625\n",
      "Epoch 8/15\n",
      "195/195 [==============================] - 69s 353ms/step - loss: 0.3122 - accuracy: 0.8833 - val_loss: 0.7123 - val_accuracy: 0.7775\n",
      "Epoch 9/15\n",
      "195/195 [==============================] - 69s 353ms/step - loss: 0.2953 - accuracy: 0.8948 - val_loss: 0.6870 - val_accuracy: 0.8025\n",
      "Epoch 10/15\n",
      "195/195 [==============================] - 68s 351ms/step - loss: 0.2826 - accuracy: 0.8976 - val_loss: 0.6591 - val_accuracy: 0.8050\n",
      "Epoch 11/15\n",
      "195/195 [==============================] - 69s 352ms/step - loss: 0.2662 - accuracy: 0.9030 - val_loss: 0.9484 - val_accuracy: 0.7600\n",
      "Epoch 12/15\n",
      "195/195 [==============================] - 73s 375ms/step - loss: 0.2549 - accuracy: 0.9062 - val_loss: 0.5833 - val_accuracy: 0.8300\n",
      "Epoch 13/15\n",
      "195/195 [==============================] - 71s 365ms/step - loss: 0.2506 - accuracy: 0.9147 - val_loss: 0.5526 - val_accuracy: 0.8425\n",
      "Epoch 14/15\n",
      "195/195 [==============================] - 70s 357ms/step - loss: 0.2335 - accuracy: 0.9142 - val_loss: 0.4694 - val_accuracy: 0.8600\n",
      "Epoch 15/15\n",
      "195/195 [==============================] - 68s 351ms/step - loss: 0.2185 - accuracy: 0.9261 - val_loss: 0.6126 - val_accuracy: 0.8250\n"
     ]
    }
   ],
   "source": [
    "epochs = 15\n",
    "history = model.fit(\n",
    "  train_ds,\n",
    "  validation_data=val_ds,\n",
    "  epochs=epochs\n",
    ")"
   ]
  },
  {
   "cell_type": "code",
   "execution_count": 57,
   "id": "eb2e9720-c3eb-401c-8e44-3db6072cd8a6",
   "metadata": {},
   "outputs": [
    {
     "data": {
      "image/png": "[encoded data removed]",
      "text/plain": [
       "<Figure size 800x800 with 2 Axes>"
      ]
     },
     "metadata": {},
     "output_type": "display_data"
    }
   ],
   "source": [
    "acc = history.history['accuracy']\n",
    "val_acc = history.history['val_accuracy']\n",
    "\n",
    "loss = history.history['loss']\n",
    "val_loss = history.history['val_loss']\n",
    "\n",
    "epochs_range = range(epochs)\n",
    "\n",
    "plt.figure(figsize=(8, 8))\n",
    "plt.subplot(1, 2, 1)\n",
    "plt.plot(epochs_range, acc, label='Training Accuracy')\n",
    "plt.plot(epochs_range, val_acc, label='Validation Accuracy')\n",
    "plt.legend(loc='lower right')\n",
    "plt.title('Training and Validation Accuracy')\n",
    "\n",
    "plt.subplot(1, 2, 2)\n",
    "plt.plot(epochs_range, loss, label='Training Loss')\n",
    "plt.plot(epochs_range, val_loss, label='Validation Loss')\n",
    "plt.legend(loc='upper right')\n",
    "plt.title('Training and Validation Loss')\n",
    "plt.show()\n"
   ]
  },
  {
   "cell_type": "code",
   "execution_count": 58,
   "id": "8da2c96e-143a-4d4d-a59e-8ea2cce4fb75",
   "metadata": {},
   "outputs": [
    {
     "name": "stdout",
     "output_type": "stream",
     "text": [
      "31/31 [==============================] - 2s 76ms/step - loss: 0.5191 - accuracy: 0.8485\n",
      "Test accuracy: 0.8485158681869507\n"
     ]
    }
   ],
   "source": [
    "#Testing model on test data\n",
    "loss, accuracy = model.evaluate(test_ds)\n",
    "print('Test accuracy:', accuracy)"
   ]
  },
  {
   "cell_type": "code",
   "execution_count": 61,
   "id": "7872ad49-70e8-41b1-92bc-e6d27f1a4081",
   "metadata": {},
   "outputs": [],
   "source": [
    "model.save('model4a.h5')"
   ]
  },
  {
   "cell_type": "code",
   "execution_count": 1,
   "id": "1312d893-6dcf-455d-bdd7-0c0205d45a70",
   "metadata": {},
   "outputs": [
    {
     "name": "stderr",
     "output_type": "stream",
     "text": [
      "Exception in Tkinter callback\n",
      "Traceback (most recent call last):\n",
      "  File \"C:\\ProgramData\\anaconda3\\lib\\tkinter\\__init__.py\", line 1921, in __call__\n",
      "    return self.func(*args)\n",
      "  File \"C:\\Users\\kaboo\\AppData\\Local\\Temp\\ipykernel_21332\\753451396.py\", line 13, in predict_image\n",
      "    file_path, target_size=(img_height, img_width)\n",
      "NameError: name 'img_height' is not defined\n"
     ]
    }
   ],
   "source": [
    "import tkinter as tk\n",
    "from tkinter import filedialog\n",
    "from PIL import ImageTk, Image\n",
    "import tensorflow as tf\n",
    "import numpy as np\n",
    "# Inicjalizacja GUI\n",
    "root = tk.Tk()\n",
    "\n",
    "# Funkcja do wczytywania obrazu i dokonywania predykcji\n",
    "def predict_image():\n",
    "    file_path = filedialog.askopenfilename()\n",
    "    img = tf.keras.utils.load_img(\n",
    "    file_path, target_size=(img_height, img_width)\n",
    "    )\n",
    "    img_array = tf.keras.utils.img_to_array(img)\n",
    "    img_array = tf.expand_dims(img_array, 0) # Create a batch\n",
    "\n",
    "    predictions = model.predict(img_array)\n",
    "    score = tf.nn.softmax(predictions[0])\n",
    "    print(\n",
    "    \"This image most likely belongs to {} with a {:.2f} percent confidence.\"\n",
    "    .format(class_names[np.argmax(score)], 100 * np.max(score))\n",
    "    )\n",
    "\n",
    "    image = Image.open(file_path).resize((img_width, img_height))\n",
    "    image = image.convert(\"RGB\")\n",
    "    image = np.array(image) / 255.0\n",
    "    image = np.expand_dims(image, axis=0)\n",
    "\n",
    "    # Tworzenie nowego okna dla wyświetlenia wyników\n",
    "    result_window = tk.Toplevel(root)\n",
    "    result_window.title(\"Prediction Result\")\n",
    "\n",
    "    # Wyświetlanie przewidywanego gatunku zwierzęcia\n",
    "    class_label_text = \"Predicted Class: {}\".format(class_names[np.argmax(score)])\n",
    "    class_label_label = tk.Label(result_window, text=class_label_text)\n",
    "    class_label_label.pack()\n",
    "\n",
    "    # Wyświetlanie pewności predykcji\n",
    "    confidence_text = \"Confidence: {:.2f}%\".format(100 * np.max(score))\n",
    "    confidence_label = tk.Label(result_window, text=confidence_text)\n",
    "    confidence_label.pack()\n",
    "\n",
    "    # Wyświetlanie wczytanego obrazu\n",
    "    image_display = ImageTk.PhotoImage(Image.open(file_path).resize((300, 300)))\n",
    "    image_label = tk.Label(result_window, image=image_display)\n",
    "    image_label.image = image_display\n",
    "    image_label.pack()\n",
    "\n",
    "# Przycisk do wczytywania obrazu\n",
    "upload_button = tk.Button(root, text=\"Upload Image\", command=predict_image)\n",
    "upload_button.pack()\n",
    "\n",
    "# Uruchomienie GUI\n",
    "root.mainloop()"
   ]
  },
  {
   "cell_type": "code",
   "execution_count": null,
   "id": "77df8f75-ef2b-4ca4-8a8c-6efcf23cd9ad",
   "metadata": {},
   "outputs": [],
   "source": []
  },
  {
   "cell_type": "code",
   "execution_count": null,
   "id": "076005d6-8dde-47f9-bd41-a29a0787e94c",
   "metadata": {},
   "outputs": [],
   "source": []
  }
 ],
 "metadata": {
  "kernelspec": {
   "display_name": "Python 3 (ipykernel)",
   "language": "python",
   "name": "python3"
  },
  "language_info": {
   "codemirror_mode": {
    "name": "ipython",
    "version": 3
   },
   "file_extension": ".py",
   "mimetype": "text/x-python",
   "name": "python",
   "nbconvert_exporter": "python",
   "pygments_lexer": "ipython3",
   "version": "3.10.9"
  }
 },
 "nbformat": 4,
 "nbformat_minor": 5
}
